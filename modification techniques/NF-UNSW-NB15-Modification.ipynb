{
 "cells": [
  {
   "cell_type": "code",
   "execution_count": null,
   "id": "6d2797b8-80be-480a-8f71-0b1acd6dec14",
   "metadata": {},
   "outputs": [],
   "source": [
    "pip install pandas numpy networkx matplotlib igraph"
   ]
  },
  {
   "cell_type": "code",
   "execution_count": 1,
   "id": "ba7b8e95-a037-441c-be05-6c701a611f6e",
   "metadata": {},
   "outputs": [],
   "source": [
    "import pandas as pd\n",
    "import numpy as np\n",
    "import networkx as nx\n",
    "import matplotlib.pyplot as plt\n",
    "import igraph as ig"
   ]
  },
  {
   "cell_type": "markdown",
   "id": "d7145c71-ef95-4799-99cc-d430456d447d",
   "metadata": {},
   "source": [
    "Data Loading"
   ]
  },
  {
   "cell_type": "code",
   "execution_count": 2,
   "id": "00563152-bf24-4f10-bf20-0d3c67912189",
   "metadata": {},
   "outputs": [],
   "source": [
    "df = pd.read_csv('./data/NF-UNSW-NB15.csv')\n",
    "df.replace([np.inf, -np.inf], np.nan, inplace=True)\n",
    "df.dropna(axis=0, how='any', inplace=True)\n",
    "df.drop_duplicates(keep ='last', inplace= True, ignore_index= True)"
   ]
  },
  {
   "cell_type": "code",
   "execution_count": 3,
   "id": "d41330e3-3670-4d22-a484-13f02ae396fb",
   "metadata": {},
   "outputs": [
    {
     "name": "stdout",
     "output_type": "stream",
     "text": [
      "   IPV4_SRC_ADDR  L4_SRC_PORT  IPV4_DST_ADDR  L4_DST_PORT  PROTOCOL  L7_PROTO  \\\n",
      "0  149.171.126.0        62073     59.166.0.5        56082         6       0.0   \n",
      "1  149.171.126.2        32284     59.166.0.5         1526         6       0.0   \n",
      "2  149.171.126.0           21     59.166.0.1        21971         6       1.0   \n",
      "3     59.166.0.1        23800  149.171.126.0        46893         6       0.0   \n",
      "4     59.166.0.5        63062  149.171.126.2           21         6       1.0   \n",
      "\n",
      "   IN_BYTES  OUT_BYTES  IN_PKTS  OUT_PKTS  TCP_FLAGS  \\\n",
      "0      9672        416       11         8         25   \n",
      "1      1776        104        6         2         25   \n",
      "2      1842       1236       26        22         25   \n",
      "3       528       8824       10        12         27   \n",
      "4      1786       2340       32        34         25   \n",
      "\n",
      "   FLOW_DURATION_MILLISECONDS  Label  Attack  \n",
      "0                          15      0  Benign  \n",
      "1                           0      0  Benign  \n",
      "2                        1111      0  Benign  \n",
      "3                         124      0  Benign  \n",
      "4                        1459      0  Benign  \n"
     ]
    }
   ],
   "source": [
    "print(df.head())"
   ]
  },
  {
   "cell_type": "markdown",
   "id": "48c1acf9-ebe3-4ab2-942f-1840ae6dfcfd",
   "metadata": {},
   "source": [
    "Original Dataset Features"
   ]
  },
  {
   "cell_type": "code",
   "execution_count": 4,
   "id": "5ea82f75-125f-42f0-abb3-a3fce18088e6",
   "metadata": {},
   "outputs": [
    {
     "name": "stdout",
     "output_type": "stream",
     "text": [
      "Num_benign:  1531166\n",
      "Num_attack:  72212\n",
      "Attacks Classes:  ['Benign', 'Exploits', 'Reconnaissance', 'DoS', 'Generic', 'Shellcode', 'Backdoor', 'Fuzzers', 'Worms', 'Analysis']\n",
      "Distribution of Attacks Classes:  Attack\n",
      "Benign            95.496259\n",
      "Exploits           1.542182\n",
      "Fuzzers            1.205580\n",
      "Reconnaissance     0.765571\n",
      "Generic            0.346456\n",
      "DoS                0.314336\n",
      "Analysis           0.124113\n",
      "Backdoor           0.110829\n",
      "Shellcode          0.085133\n",
      "Worms              0.009542\n",
      "Name: proportion, dtype: float64\n"
     ]
    }
   ],
   "source": [
    "num_benign = len(df[df['Label'] == 0])\n",
    "num_attack = len(df[df['Label'] == 1])\n",
    "print(\"Num_benign: \" , num_benign)\n",
    "print(\"Num_attack: \" , num_attack)\n",
    "print(\"Attacks Classes: \" , list(df[\"Attack\"].unique()))\n",
    "\n",
    "percentage_distribution = df['Attack'].value_counts(normalize=True) * 100\n",
    "print(\"Distribution of Attacks Classes: \" , percentage_distribution)"
   ]
  },
  {
   "cell_type": "markdown",
   "id": "58d29567-b550-487a-8347-dadabdae0809",
   "metadata": {},
   "source": [
    "Original Dataset Centrality Measures"
   ]
  },
  {
   "cell_type": "code",
   "execution_count": 5,
   "id": "0c35eaa1-5504-4898-994f-6da51f05fa9e",
   "metadata": {},
   "outputs": [
    {
     "name": "stdout",
     "output_type": "stream",
     "text": [
      "Number of nodes: 44\n",
      "Number of edges: 294\n",
      "Max degree: 21\n",
      "Average degree: 13.36\n",
      "Transitivity: 0.0000\n",
      "Density: 0.1554\n",
      "==>> number of communities: 6\n",
      "Mixing parameter: 0.0136\n",
      "Modularity: 0.4415\n"
     ]
    }
   ],
   "source": [
    "#Constructing Graph\n",
    "G = nx.from_pandas_edgelist(df, 'IPV4_SRC_ADDR', 'IPV4_DST_ADDR', create_using=nx.DiGraph())\n",
    "#G.remove_nodes_from(list(nx.isolates(G)))\n",
    "\n",
    "#Computing Graph-Level Measures\n",
    "number_of_nodes = G.number_of_nodes()\n",
    "number_of_edges = G.number_of_edges()\n",
    "max_degree = max(dict(G.degree()).values())\n",
    "avg_degree = sum(dict(G.degree()).values()) / number_of_nodes\n",
    "transitivity = nx.transitivity(G)\n",
    "density = nx.density(G)\n",
    "\n",
    "print(f\"Number of nodes: {number_of_nodes}\")\n",
    "print(f\"Number of edges: {number_of_edges}\")\n",
    "print(f\"Max degree: {max_degree}\")\n",
    "print(f\"Average degree: {avg_degree:.2f}\")\n",
    "print(f\"Transitivity: {transitivity:.4f}\")\n",
    "print(f\"Density: {density:.4f}\")\n",
    "\n",
    "#Computing Communities and Community Measures\n",
    "import igraph as ig\n",
    "G1 = ig.Graph.from_networkx(G)\n",
    "part = G1.community_infomap()\n",
    "\n",
    "communities = []\n",
    "for com in part:\n",
    "    communities.append([G1.vs[node_index]['_nx_name'] for node_index in com])\n",
    "print(f\"==>> number of communities: {len(communities)}\")\n",
    "\n",
    "# Step 1: Map each node to its community\n",
    "node_to_community = {}\n",
    "for community_index, community in enumerate(communities):\n",
    "    for node in community:\n",
    "        node_to_community[node] = community_index\n",
    "\n",
    "# Step 2: Count inter-cluster edges efficiently\n",
    "inter_cluster_edges = 0\n",
    "for u, v in G.edges():\n",
    "     if node_to_community[u] != node_to_community[v]:\n",
    "        inter_cluster_edges += 1\n",
    "    \n",
    "mixing_parameter = inter_cluster_edges / G.number_of_edges()\n",
    "modularity = nx.community.modularity(G, communities)\n",
    "print(f\"Mixing parameter: {mixing_parameter:.4f}\")\n",
    "print(f\"Modularity: {modularity:.4f}\")"
   ]
  },
  {
   "cell_type": "markdown",
   "id": "67933bea-3715-4868-b45d-960034cd5fbe",
   "metadata": {},
   "source": [
    "Modification Based on Centrality Measures"
   ]
  },
  {
   "cell_type": "code",
   "execution_count": 86,
   "id": "84a4be94-190b-47c2-89ee-4c9551410490",
   "metadata": {},
   "outputs": [],
   "source": [
    "eigenvector_centrality = nx.eigenvector_centrality_numpy(G)\n",
    "#Sorting nodes by eigenvector centrality\n",
    "sorted_nodes = sorted(eigenvector_centrality, key=eigenvector_centrality.get, reverse=False)\n",
    "#Taking top 21% nodes that have highest centrality to form a new modified dataset\n",
    "top_few_percent_count = int(0.35* len(sorted_nodes))\n",
    "top_few_percent_nodes = sorted_nodes[:top_few_percent_count]\n",
    "#Constructing new graph from these nodes\n",
    "G0 = G.subgraph(top_few_percent_nodes)"
   ]
  },
  {
   "cell_type": "markdown",
   "id": "3d6290c1-71de-4618-96ba-d613da1d41b0",
   "metadata": {},
   "source": [
    "Modified Dataset Centrality Measures"
   ]
  },
  {
   "cell_type": "code",
   "execution_count": 87,
   "id": "9aa49e41-7f12-4959-a8ff-89ca3a49f308",
   "metadata": {},
   "outputs": [
    {
     "name": "stdout",
     "output_type": "stream",
     "text": [
      "Number of nodes: 15\n",
      "Number of edges: 24\n",
      "Max degree: 8\n",
      "Average degree: 3.2\n",
      "Transitivity: 0\n",
      "Density: 0.11428571428571428\n",
      "==>> number of communities: 5\n",
      "Mixing parameter: 0.125\n",
      "Modularity: 0.43923611111111105\n"
     ]
    }
   ],
   "source": [
    "#Computing graph-level measures of new modified dataset\n",
    "number_of_nodes = G0.number_of_nodes()\n",
    "number_of_edges = G0.number_of_edges()\n",
    "max_degree = max(dict(G0.degree()).values())\n",
    "avg_degree = sum(dict(G0.degree()).values()) / number_of_nodes\n",
    "transitivity = nx.transitivity(G0)\n",
    "density = nx.density(G0)\n",
    "\n",
    "print(f\"Number of nodes: {number_of_nodes}\")\n",
    "print(f\"Number of edges: {number_of_edges}\")\n",
    "print(f\"Max degree: {max_degree}\")\n",
    "print(f\"Average degree: {avg_degree}\")\n",
    "print(f\"Transitivity: {transitivity}\")\n",
    "print(f\"Density: {density}\")\n",
    "\n",
    "#Computing communities and community measures of new modified dataset\n",
    "G2 = ig.Graph.from_networkx(G0)\n",
    "part = G2.community_infomap()\n",
    "\n",
    "communities2 = []\n",
    "for com in part:\n",
    "    communities2.append([G2.vs[node_index]['_nx_name'] for node_index in com])\n",
    "print(f\"==>> number of communities: {len(communities2)}\")\n",
    "# Step 1: Map each node to its community\n",
    "node_to_community = {}\n",
    "for community_index, community in enumerate(communities2):\n",
    "    for node in community:\n",
    "        node_to_community[node] = community_index\n",
    "\n",
    "# Step 2: Count inter-cluster edges efficiently\n",
    "inter_cluster_edges = 0\n",
    "for u, v in G0.edges():\n",
    "    if node_to_community[u] != node_to_community[v]:\n",
    "        inter_cluster_edges += 1\n",
    "\n",
    "mixing_parameter = inter_cluster_edges / G0.number_of_edges()\n",
    "modularity = nx.community.modularity(G0, communities2)\n",
    "print(f\"Mixing parameter: {mixing_parameter}\")\n",
    "print(f\"Modularity: {modularity}\")"
   ]
  },
  {
   "cell_type": "markdown",
   "id": "cc78c738-8d96-4fd5-8a80-a77f6a6e7ae3",
   "metadata": {},
   "source": [
    "Modified Dataset Features"
   ]
  },
  {
   "cell_type": "code",
   "execution_count": 88,
   "id": "6763a7c8-39d1-40df-8acd-eca3a6105956",
   "metadata": {},
   "outputs": [
    {
     "name": "stdout",
     "output_type": "stream",
     "text": [
      "Num_benign:  31679\n",
      "Num_attack:  58441\n",
      "Attacks Classes:  ['Benign', 'Exploits', 'Reconnaissance', 'DoS', 'Generic', 'Shellcode', 'Backdoor', 'Fuzzers', 'Worms', 'Analysis']\n",
      "Distribution of Attacks Classes:  Attack\n",
      "Benign            95.496259\n",
      "Exploits           1.542182\n",
      "Fuzzers            1.205580\n",
      "Reconnaissance     0.765571\n",
      "Generic            0.346456\n",
      "DoS                0.314336\n",
      "Analysis           0.124113\n",
      "Backdoor           0.110829\n",
      "Shellcode          0.085133\n",
      "Worms              0.009542\n",
      "Name: proportion, dtype: float64\n"
     ]
    }
   ],
   "source": [
    "filtered_df = df[ (df['IPV4_SRC_ADDR'].isin(top_few_percent_nodes)) | (df['IPV4_DST_ADDR'].isin(top_few_percent_nodes)) ]\n",
    "num_benign = len(filtered_df[filtered_df['Label'] == 0])\n",
    "num_attack = len(filtered_df[filtered_df['Label'] == 1])\n",
    "\n",
    "print(\"Num_benign: \" , num_benign)\n",
    "print(\"Num_attack: \" , num_attack)\n",
    "print(\"Attacks Classes: \" , list(df[\"Attack\"].unique()))\n",
    "\n",
    "percentage_distribution = df['Attack'].value_counts(normalize=True) * 100\n",
    "print(\"Distribution of Attacks Classes: \" , percentage_distribution)"
   ]
  },
  {
   "cell_type": "markdown",
   "id": "6416d72c-bca7-4ace-ac37-5e305d03dd02",
   "metadata": {},
   "source": [
    "Extracting Modified Dataset"
   ]
  },
  {
   "cell_type": "code",
   "execution_count": 89,
   "id": "2d112957-d2c4-481d-b772-04925d9e066c",
   "metadata": {},
   "outputs": [],
   "source": [
    "filtered_df.to_csv('./data/NF-UNSW-NB15-Modified.csv', index=False)"
   ]
  },
  {
   "cell_type": "markdown",
   "id": "b43f1c88",
   "metadata": {},
   "source": []
  },
  {
   "cell_type": "code",
   "execution_count": 25,
   "id": "67c53667-244a-4fa5-a6ee-067382f1ff5f",
   "metadata": {},
   "outputs": [],
   "source": [
    "filtered_df.to_pickle(\"./data/NF-ToN-IoT-v2-Modified.pkl\")"
   ]
  }
 ],
 "metadata": {
  "kernelspec": {
   "display_name": "Python 3 (ipykernel)",
   "language": "python",
   "name": "python3"
  },
  "language_info": {
   "codemirror_mode": {
    "name": "ipython",
    "version": 3
   },
   "file_extension": ".py",
   "mimetype": "text/x-python",
   "name": "python",
   "nbconvert_exporter": "python",
   "pygments_lexer": "ipython3",
   "version": "3.11.8"
  }
 },
 "nbformat": 4,
 "nbformat_minor": 5
}
